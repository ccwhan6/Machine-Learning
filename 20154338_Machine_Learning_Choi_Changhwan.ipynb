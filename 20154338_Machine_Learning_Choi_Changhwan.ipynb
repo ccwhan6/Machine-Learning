{
 "cells": [
  {
   "cell_type": "markdown",
   "metadata": {},
   "source": [
    "## autoencoder model"
   ]
  },
  {
   "cell_type": "code",
   "execution_count": 0,
   "metadata": {
    "colab": {},
    "colab_type": "code",
    "id": "lWMnB_CmkGKo"
   },
   "outputs": [],
   "source": [
    "import torch\n",
    "import numpy as np\n",
    "import torch.nn as nn\n",
    "import torch.nn.functional as F\n",
    "from torch.utils.data import Dataset, DataLoader\n",
    "\n",
    "import torchvision\n",
    "import torch.optim as optim\n",
    "import torchvision.transforms as transforms\n",
    "from torch.autograd import Variable\n",
    "import matplotlib.pyplot as plt\n",
    "\n",
    "import random\n",
    "\n",
    "# custom dataloader for .npy file\n",
    "class numpyDataset(Dataset):\n",
    "    def __init__(self, data, transform=None):\n",
    "        self.data = torch.from_numpy(data).float()\n",
    "        self.transform = transform\n",
    "\n",
    "    def __getitem__(self, index):\n",
    "        x = self.data[index]\n",
    "\n",
    "        if self.transform:\n",
    "            x = self.transform(x)\n",
    "\n",
    "        return x\n",
    "\n",
    "    def __len__(self):\n",
    "        return len(self.data)\n",
    "\n",
    "\n",
    "class Autoencoder(nn.Module):\n",
    "    def __init__(self):\n",
    "        super(ConvAutoencoder, self).__init__()\n",
    "        # encoder layers\n",
    "        self.conv1 = nn.Conv2d(1, 256, 3, padding=1)  \n",
    "        self.conv2 = nn.Conv2d(256, 128, 3, padding=1)\n",
    "        self.conv3 = nn.Conv2d(128, 16, 3, padding=1)\n",
    "\n",
    "        # pooling layer\n",
    "        self.pool = nn.MaxPool2d(2, 2)\n",
    "        \n",
    "        # decoder layers\n",
    "        self.t_conv1 = nn.ConvTranspose2d(16, 128, 2, stride=2)\n",
    "        self.t_conv2 = nn.ConvTranspose2d(128, 256, 2, stride=2)\n",
    "        self.t_conv3 = nn.ConvTranspose2d(256, 1, 2, stride=2)\n",
    "\n",
    "       \n",
    "\n",
    "    def forward(self, x):\n",
    "        # encode\n",
    "        x = F.relu(self.conv1(x))\n",
    "        x = self.pool(x)\n",
    "        x = F.relu(self.conv2(x))\n",
    "        x = self.pool(x) \n",
    "        x = F.relu(self.conv3(x))\n",
    "        x = self.pool(x) \n",
    "        \n",
    "        # decode\n",
    "        x = F.relu(self.t_conv1(x))\n",
    "        x = F.relu(self.t_conv2(x))\n",
    "        x = F.sigmoid(self.t_conv3(x))\n",
    "                \n",
    "        return x\n",
    "\n",
    "generate_data = True\n",
    "\n",
    "model = Autoencoder()\n",
    "model.cuda()\n",
    "\n",
    "optimizer = optim.Adam(model.parameters(), lr=1e-3, weight_decay=0.03)\n",
    "objective = nn.MSELoss(reduction='sum')"
   ]
  },
  {
   "cell_type": "markdown",
   "metadata": {},
   "source": [
    "## train method"
   ]
  },
  {
   "cell_type": "code",
   "execution_count": 0,
   "metadata": {
    "colab": {},
    "colab_type": "code",
    "id": "25PhXE4ZkGK0"
   },
   "outputs": [],
   "source": [
    "def train(batch_idx, epoch, image, target):\n",
    "    data, target = Variable(image).cuda(), Variable(target).cuda()\n",
    "\n",
    "    optimizer.zero_grad()\n",
    "    \n",
    "    output = model(target)\n",
    "    loss = objective(output, data)\n",
    "\n",
    "    loss.backward()\n",
    "    optimizer.step()\n",
    "\n",
    "    loss_t = loss.item() / len(data)\n",
    "\n",
    "    return loss_t"
   ]
  },
  {
   "cell_type": "markdown",
   "metadata": {},
   "source": [
    "## training"
   ]
  },
  {
   "cell_type": "code",
   "execution_count": 6,
   "metadata": {
    "colab": {
     "base_uri": "https://localhost:8080/",
     "height": 1000
    },
    "colab_type": "code",
    "executionInfo": {
     "elapsed": 668,
     "status": "error",
     "timestamp": 1576070232969,
     "user": {
      "displayName": "최창환",
      "photoUrl": "https://lh3.googleusercontent.com/a-/AAuE7mA6NK_egIHPtVMasrjKlYWfP1KUMlTkuKSTxYZXYQ=s64",
      "userId": "18096144342466839862"
     },
     "user_tz": -540
    },
    "id": "d3ROtLw1kGK5",
    "outputId": "16561040-e1c1-441a-cce5-01de67549de7",
    "scrolled": true
   },
   "outputs": [
    {
     "name": "stdout",
     "output_type": "stream",
     "text": [
      "[epoch 0] loss(training): 12.205754459337754\n",
      "[epoch 1] loss(training): 3.787986361438578\n",
      "[epoch 2] loss(training): 2.991530156352303\n",
      "[epoch 3] loss(training): 2.6084053585746068\n",
      "[epoch 4] loss(training): 2.7152962687882507\n",
      "[epoch 5] loss(training): 2.559706251079386\n",
      "[epoch 6] loss(training): 2.478726564429023\n",
      "[epoch 7] loss(training): 2.4144612415270372\n",
      "[epoch 8] loss(training): 2.366153056946668\n",
      "[epoch 9] loss(training): 2.339125778024847\n",
      "[epoch 10] loss(training): 2.2856255971301684\n",
      "[epoch 11] loss(training): 2.321519608064131\n",
      "[epoch 12] loss(training): 2.2071657629446553\n",
      "[epoch 13] loss(training): 2.3280735313892365\n",
      "[epoch 14] loss(training): 2.1454501383954825\n",
      "[epoch 15] loss(training): 2.065173200152137\n",
      "[epoch 16] loss(training): 2.065949364846403\n",
      "[epoch 17] loss(training): 2.0959901547431947\n",
      "[epoch 18] loss(training): 2.0060494582219555\n",
      "[epoch 19] loss(training): 1.985864567648281\n",
      "[epoch 20] loss(training): 2.0141639935428444\n",
      "[epoch 21] loss(training): 1.947597713145343\n",
      "[epoch 22] loss(training): 1.9989670836925506\n",
      "[epoch 23] loss(training): 1.9872366482561286\n",
      "[epoch 24] loss(training): 2.055513721921227\n",
      "[epoch 25] loss(training): 1.9134187579154969\n",
      "[epoch 26] loss(training): 2.0029430189999666\n",
      "[epoch 27] loss(training): 1.9627641365202992\n",
      "[epoch 28] loss(training): 1.9730717798796567\n",
      "[epoch 29] loss(training): 1.899359643080018\n",
      "[epoch 30] loss(training): 1.9909707112745805\n",
      "[epoch 31] loss(training): 1.9364948085763238\n",
      "[epoch 32] loss(training): 2.017955997694622\n",
      "[epoch 33] loss(training): 1.9109504569118676\n",
      "[epoch 34] loss(training): 1.9007000201398674\n",
      "[epoch 35] loss(training): 1.9269078107313677\n",
      "[epoch 36] loss(training): 1.8737846530567517\n",
      "[epoch 37] loss(training): 1.986462198604237\n",
      "[epoch 38] loss(training): 1.9507142932848498\n",
      "[epoch 39] loss(training): 1.982651645595377\n",
      "[epoch 40] loss(training): 1.9062763032588093\n",
      "[epoch 41] loss(training): 1.9036226931485265\n",
      "[epoch 42] loss(training): 2.0620622527057475\n",
      "[epoch 43] loss(training): 1.907239433906295\n",
      "[epoch 44] loss(training): 1.8948272537101398\n",
      "[epoch 45] loss(training): 1.9128115055777812\n",
      "[epoch 46] loss(training): 1.9066830413991753\n",
      "[epoch 47] loss(training): 1.933505985791033\n",
      "[epoch 48] loss(training): 1.980544633160938\n",
      "[epoch 49] loss(training): 1.9743275501511313\n",
      "[epoch 50] loss(training): 1.950662179968574\n",
      "[epoch 51] loss(training): 1.99375779514963\n",
      "[epoch 52] loss(training): 1.90378640266982\n",
      "[epoch 53] loss(training): 1.9747697033123535\n",
      "[epoch 54] loss(training): 2.021895038431341\n",
      "[epoch 55] loss(training): 1.964245339198546\n",
      "[epoch 56] loss(training): 1.9674498762867665\n",
      "[epoch 57] loss(training): 1.9377729904651642\n",
      "[epoch 58] loss(training): 1.9409553010355343\n",
      "[epoch 59] loss(training): 1.9039309774745594\n",
      "[epoch 60] loss(training): 1.9251329443671488\n",
      "[epoch 61] loss(training): 1.8870182470299979\n",
      "[epoch 62] loss(training): 1.9342013092474506\n",
      "[epoch 63] loss(training): 1.9331430606950413\n",
      "[epoch 64] loss(training): 2.066784678480842\n",
      "[epoch 65] loss(training): 1.9621418673341926\n",
      "[epoch 66] loss(training): 1.8203472215479068\n",
      "[epoch 67] loss(training): 1.8940155449238691\n",
      "[epoch 68] loss(training): 2.0227319275790996\n",
      "[epoch 69] loss(training): 1.8956768512183968\n"
     ]
    }
   ],
   "source": [
    "NUM_EPOCH = 70\n",
    "\n",
    "transform = transforms.Compose([\n",
    "    transforms.ToPILImage(),\n",
    "    transforms.Grayscale(num_output_channels=1),\n",
    "    transforms.ToTensor(),\n",
    "])\n",
    "\n",
    "traindata = np.load('/content/drive/My Drive/Colab Notebooks/train.npy')\n",
    "traindataset = numpyDataset(traindata, transform)\n",
    "trainloader = DataLoader(traindataset, batch_size=4, shuffle=True, drop_last=True, num_workers=2)\n",
    "\n",
    "loss_mean, loss_std = [], []\n",
    "\n",
    "model.train()\n",
    "for epoch in range(NUM_EPOCH):\n",
    "\n",
    "    batch_t = []\n",
    "\n",
    "    for batch_idx, data in enumerate(trainloader):\n",
    "\n",
    "        # Noisy Images #\n",
    "        i = random.randint(1, 4) * 0.01\n",
    "        image = data + (i * torch.randn(len(data), 1, 120, 80))\n",
    "\n",
    "        loss_t = train(batch_idx, epoch, data, image)\n",
    "        batch_t.append(loss_train)\n",
    "\n",
    "    loss_mean.append(np.mean(batch_t))\n",
    "    loss_std.append(np.std(batch_t))\n",
    "\n",
    "    print(\"[epoch %s] loss(training): %s\" % (epoch, loss_mean[-1]))"
   ]
  },
  {
   "cell_type": "markdown",
   "metadata": {},
   "source": [
    "## run model with test data"
   ]
  },
  {
   "cell_type": "code",
   "execution_count": null,
   "metadata": {},
   "outputs": [],
   "source": [
    "testdata = np.load('/content/drive/My Drive/Colab Notebooks/test.npy')\n",
    "testdataset = numpyDataset(testdata, transform)\n",
    "testloader = DataLoader(testdataset, batch_size=1, shuffle=False, drop_last=False, num_workers=2)\n",
    "model.eval()\n",
    "\n",
    "result_for_submit = None  # this is for submit file\n",
    "\n",
    "for batch_idx, data in enumerate(testloader):\n",
    "\n",
    "    with torch.no_grad():\n",
    "        result_of_test = model.forward(Variable(data).cuda())\n",
    "\n",
    "    if batch_idx == 0:\n",
    "        result_for_submit = result_of_test\n",
    "    else:\n",
    "        try:\n",
    "            result_for_submit = torch.cat([result_for_submit, result_of_test], dim=0)\n",
    "\n",
    "        except RuntimeError:\n",
    "            transposed = torch.transpose(result_of_test, 2, 3)\n",
    "            result_for_submit = torch.cat([result_for_submit, transposed], dim=0)\n",
    "\n",
    "# the submit_file.shape must be (400,1,120,80)\n",
    "submit_file = result_for_submit.detach().numpy()\n",
    "np.save('20154338_ChoiChanghwan.npy', submit_file)"
   ]
  },
  {
   "cell_type": "markdown",
   "metadata": {},
   "source": [
    "## plot graph"
   ]
  },
  {
   "cell_type": "code",
   "execution_count": 9,
   "metadata": {},
   "outputs": [
    {
     "data": {
      "image/png": "[encoded data removed]",
      "text/plain": [
       "<Figure size 432x288 with 1 Axes>"
      ]
     },
     "metadata": {
      "needs_background": "light"
     },
     "output_type": "display_data"
    }
   ],
   "source": [
    "plt.title(\"Loss\") \n",
    "plt.plot(loss_train_mean)\n",
    "plt.fill_between(np.arange(1,len(loss_train_mean)+1), np.array(loss_train_mean) - np.array(loss_train_std),np.array(loss_train_mean) + np.array(loss_train_std), alpha = 0.3) \n",
    "plt.legend(['loss_train_mean','loss_test']) \n",
    "plt.show()"
   ]
  }
 ],
 "metadata": {
  "accelerator": "GPU",
  "colab": {
   "name": "Untitled.ipynb",
   "provenance": []
  },
  "kernelspec": {
   "display_name": "Python 3",
   "language": "python",
   "name": "python3"
  },
  "language_info": {
   "codemirror_mode": {
    "name": "ipython",
    "version": 3
   },
   "file_extension": ".py",
   "mimetype": "text/x-python",
   "name": "python",
   "nbconvert_exporter": "python",
   "pygments_lexer": "ipython3",
   "version": "3.7.3"
  }
 },
 "nbformat": 4,
 "nbformat_minor": 1
}
