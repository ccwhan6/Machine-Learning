{
 "cells": [
  {
   "cell_type": "markdown",
   "metadata": {},
   "source": [
    "## to install pytorch"
   ]
  },
  {
   "cell_type": "code",
   "execution_count": 1,
   "metadata": {
    "scrolled": false
   },
   "outputs": [],
   "source": [
    "# import sys\n",
    "# !{sys.executable} -m pip install torch==1.2.0+cpu torchvision==0.4.0+cpu -f https://download.pytorch.org/whl/torch_stable.html\n"
   ]
  },
  {
   "cell_type": "markdown",
   "metadata": {},
   "source": [
    "## Data preprocessing"
   ]
  },
  {
   "cell_type": "code",
   "execution_count": 20,
   "metadata": {
    "scrolled": false
   },
   "outputs": [],
   "source": [
    "import torch\n",
    "from torch.utils.data import Dataset, DataLoader\n",
    "import torchvision.transforms as transforms\n",
    "import torchvision\n",
    "import os\n",
    "import numpy as np\n",
    "import matplotlib.pyplot as plt\n",
    "import time\n",
    "\n",
    "\n",
    "transform = transforms.Compose([#transforms.Resize((256,256)),  \n",
    "                                transforms.Grayscale(),\t\t# the code transforms.Graysclae() is for changing the size [3,100,100] to [1, 100, 100] (notice : [channel, height, width] )\n",
    "                                transforms.ToTensor(),])\n",
    "\n",
    "\n",
    "#train_data_path = 'relative path of training data set'\n",
    "train_data_path = './horse-or-human/horse-or-human/train'\n",
    "trainset = torchvision.datasets.ImageFolder(root=train_data_path, transform=transform)\n",
    "# change the valuse of batch_size, num_workers for your program\n",
    "# if shuffle=True, the data reshuffled at every epoch \n",
    "trainloader = torch.utils.data.DataLoader(trainset, batch_size=3, shuffle=False, num_workers=1)  \n",
    "\n",
    "\n",
    "validation_data_path = './horse-or-human/horse-or-human/validation'\n",
    "valset = torchvision.datasets.ImageFolder(root=validation_data_path, transform=transform)\n",
    "# change the valuse of batch_size, num_workers for your program\n",
    "valloader = torch.utils.data.DataLoader(valset, batch_size=3, shuffle=False, num_workers=1)\n",
    "TTOTAL = 1027\n",
    "VTOTAL = 256\n",
    "train_data = np.zeros((TTOTAL,10000))\n",
    "val_data = np.zeros((VTOTAL,10000))\n",
    "train_lab = np.zeros((TTOTAL,1))\n",
    "val_lab = np.zeros((VTOTAL,1))\n",
    "\n",
    "\n",
    "NUM_EPOCH = 1\n",
    "index = 0\n",
    "for epoch in range(0, NUM_EPOCH):\n",
    "    # load training images of the batch size for every iteration\n",
    "    for i, data in enumerate(trainloader):\n",
    "\n",
    "        # inputs is the image\n",
    "        # labels is the class of the image\n",
    "        inputs, labels = data\n",
    "\n",
    "        # if you don't change the image size, it will be [batch_size, 1, 100, 100]\n",
    "        #print(inputs)\n",
    "        #print(np.concatenate((temp[:1, :],labels[0]),axis = 0))\n",
    "\n",
    "        # if labels is horse it returns tensor[0,0,0] else it returns tensor[1,1,1]\n",
    "        lab_temp = labels.numpy() \n",
    "        for num in range(0, len(inputs)):\n",
    "            temp = inputs.view(len(inputs), -1)\n",
    "            temp = temp[num:num+1, :].numpy()\n",
    "            train_data[index] = temp[0]\n",
    "            train_lab[index] = lab_temp[num]\n",
    "            index += 1                                 #make torch to numpy and save it with vectorize (train data)\n",
    "\n",
    "\n",
    "    index = 0\n",
    "\n",
    "    # load validation images of the batch size for every iteration\n",
    "    for i, data in enumerate(valloader):\n",
    "        \n",
    "        # inputs is the image\n",
    "        # labels is the class of the image\n",
    "        inputs, labels = data\n",
    "\n",
    "        # if you don't change the image size, it will be [batch_size, 1, 100, 100]\n",
    "        #print(inputs)\n",
    "\n",
    "        # if labels is horse it returns tensor[0,0,0] else it returns tensor[1,1,1]\n",
    "        #print(labels)    \n",
    "        \n",
    "        lab_temp = labels.numpy()\n",
    "        for num in range(0, len(inputs)):\n",
    "                temp = inputs.view(len(inputs), -1)\n",
    "                temp = temp[num:num+1, :].numpy()\n",
    "                val_data[index] = temp[0]\n",
    "                val_lab[index] = lab_temp[num]\n",
    "                index += 1                             #make torch to numpy and save it with vectorize (validation data)\n",
    "\n",
    "train_data = np.concatenate((train_data, np.ones((TTOTAL,1))), axis = 1)\n",
    "val_data = np.concatenate((val_data, np.ones((VTOTAL,1))), axis = 1)\n",
    "train_data = train_data.T\n"
   ]
  },
  {
   "cell_type": "markdown",
   "metadata": {},
   "source": [
    "## methods for iteration"
   ]
  },
  {
   "cell_type": "code",
   "execution_count": 27,
   "metadata": {},
   "outputs": [],
   "source": [
    "def sigmoid(z):\n",
    "    return 1 / (1 + np.exp(-z))\n",
    "\n",
    "def crossEntropy(l,y):\n",
    "    return -(l * np.log(y) + ((1 - l) * np.log(1 - y)))      \n",
    "\n",
    "def loss(l,y, total):\n",
    "    return (1 / total) * np.sum(crossEntropy(l,y))\n",
    "\n",
    "def d_sig(z):\n",
    "    z * ( 1 - z )\n",
    "\n",
    "def accuracy(l,y, total):\n",
    "    cor = 0\n",
    "    for num in range(total):\n",
    "        if (y[num] > 0.5 and l[num] == 1):\n",
    "            cor = cor + 1\n",
    "        elif (y[num] <= 0.5 and l[num] == 0):\n",
    "            cor = cor + 1\n",
    "    return cor / total"
   ]
  },
  {
   "cell_type": "code",
   "execution_count": 37,
   "metadata": {},
   "outputs": [],
   "source": [
    "H1 = 120\n",
    "H2 = 140\n",
    "\n",
    "u = np.random.randn(H1, 10001)\n",
    "v = np.random.randn(H2, H1)\n",
    "w = np.random.randn(1, H2)\n",
    "\n",
    "learning_rate = 0.055\n",
    "train_loss = []\n",
    "val_loss = []\n",
    "train_acc = []\n",
    "val_acc = []\n",
    "last = 0\n",
    "end = 0\n",
    "\n",
    "while True:\n",
    "    a = np.dot(u, train_data)\n",
    "    y = sigmoid(a)\n",
    "    b = np.dot(v, y)\n",
    "    z = sigmoid(b)\n",
    "    c = np.dot(w, z)\n",
    "    h = sigmoid(c)\n",
    "    h_v = sigmoid(np.dot(w,sigmoid(np.dot(v,sigmoid(np.dot(u, val_data.T))))))\n",
    "    \n",
    "    temp = h.T - train_lab\n",
    "    w_temp = np.dot(temp.T, z.T) * (1 / TTOTAL)\n",
    "\n",
    "    temp = np.dot(temp, w) * (z * (1 - z)).T\n",
    "    v_temp = (np.dot(temp.T, y.T) * (1 / TTOTAL))\n",
    "\n",
    "    u_temp = (np.dot((np.dot(temp, v) * (y * (1 - y)).T).T, train_data.T)) * (1 / TTOTAL)\n",
    "    \n",
    "    w = w - (learning_rate * w_temp)\n",
    "    v = v - (learning_rate * v_temp)\n",
    "    u = u - (learning_rate * u_temp)\n",
    "    \n",
    "    train_loss.append(loss(train_lab, h.T, TTOTAL))\n",
    "    val_loss.append(loss(val_lab, h_v.T, VTOTAL))\n",
    "    \n",
    "    train_acc.append(accuracy(train_lab, h.T, TTOTAL))\n",
    "    val_acc.append(accuracy(val_lab, h_v.T, VTOTAL))\n",
    "    \n",
    "    \n",
    "    if (abs(train_loss[end]-last) < 10e-6):\n",
    "        break\n",
    "    else :\n",
    "        last = train_loss[end]\n",
    "        end = end + 1\n",
    "        continue\n",
    "\n",
    "    \n",
    "    \n",
    "    \n",
    "    \n",
    "    \n",
    "    \n",
    "    "
   ]
  },
  {
   "cell_type": "code",
   "execution_count": 38,
   "metadata": {
    "scrolled": true
   },
   "outputs": [
    {
     "data": {
      "image/png": "[encoded data removed]",
      "text/plain": [
       "<Figure size 432x288 with 1 Axes>"
      ]
     },
     "metadata": {
      "needs_background": "light"
     },
     "output_type": "display_data"
    },
    {
     "data": {
      "image/png": "[encoded data removed]",
      "text/plain": [
       "<Figure size 432x288 with 1 Axes>"
      ]
     },
     "metadata": {
      "needs_background": "light"
     },
     "output_type": "display_data"
    },
    {
     "ename": "NameError",
     "evalue": "name 'calculation_time' is not defined",
     "output_type": "error",
     "traceback": [
      "\u001b[1;31m---------------------------------------------------------------------------\u001b[0m",
      "\u001b[1;31mNameError\u001b[0m                                 Traceback (most recent call last)",
      "\u001b[1;32m<ipython-input-38-70ecc07e8308>\u001b[0m in \u001b[0;36m<module>\u001b[1;34m\u001b[0m\n\u001b[0;32m     11\u001b[0m \u001b[1;33m\u001b[0m\u001b[0m\n\u001b[0;32m     12\u001b[0m \u001b[0mplt\u001b[0m\u001b[1;33m.\u001b[0m\u001b[0mfigure\u001b[0m\u001b[1;33m(\u001b[0m\u001b[1;33m)\u001b[0m\u001b[1;33m\u001b[0m\u001b[1;33m\u001b[0m\u001b[0m\n\u001b[1;32m---> 13\u001b[1;33m \u001b[0mplt\u001b[0m\u001b[1;33m.\u001b[0m\u001b[0mplot\u001b[0m\u001b[1;33m(\u001b[0m\u001b[0mcalculation_time\u001b[0m\u001b[1;33m)\u001b[0m\u001b[1;33m\u001b[0m\u001b[1;33m\u001b[0m\u001b[0m\n\u001b[0m\u001b[0;32m     14\u001b[0m \u001b[0mplt\u001b[0m\u001b[1;33m.\u001b[0m\u001b[0mtitle\u001b[0m\u001b[1;33m(\u001b[0m\u001b[1;34m\"Calculation Time\"\u001b[0m\u001b[1;33m)\u001b[0m\u001b[1;33m\u001b[0m\u001b[1;33m\u001b[0m\u001b[0m\n\u001b[0;32m     15\u001b[0m \u001b[0mplt\u001b[0m\u001b[1;33m.\u001b[0m\u001b[0mshow\u001b[0m\u001b[1;33m(\u001b[0m\u001b[1;33m)\u001b[0m\u001b[1;33m\u001b[0m\u001b[1;33m\u001b[0m\u001b[0m\n",
      "\u001b[1;31mNameError\u001b[0m: name 'calculation_time' is not defined"
     ]
    },
    {
     "data": {
      "text/plain": [
       "<Figure size 432x288 with 0 Axes>"
      ]
     },
     "metadata": {},
     "output_type": "display_data"
    }
   ],
   "source": [
    "plt.plot(train_loss)\n",
    "plt.plot(val_loss)\n",
    "plt.title(\"Loss\")\n",
    "plt.show()\n",
    "\n",
    "plt.figure()\n",
    "plt.plot(train_acc)\n",
    "plt.plot(val_acc)\n",
    "plt.title(\"Accuracy\")\n",
    "plt.show()\n",
    "\n",
    "plt.figure()\n",
    "plt.plot(calculation_time)\n",
    "plt.title(\"Calculation Time\")\n",
    "plt.show()"
   ]
  },
  {
   "cell_type": "markdown",
   "metadata": {},
   "source": [
    "## make iteration"
   ]
  },
  {
   "cell_type": "code",
   "execution_count": null,
   "metadata": {},
   "outputs": [],
   "source": [
    "learning_rate = 0.002\n",
    "w = np.zeros((1,10000))\n",
    "b = 0.0\n",
    "train_loss = []\n",
    "val_loss = []\n",
    "train_acc = []\n",
    "val_acc = []\n",
    "calculation_time = []\n",
    "last = 0\n",
    "temp = 0\n",
    "\n",
    "\n",
    "while True:\n",
    "    start_time = time.time()\n",
    "    \n",
    "    train_z = np.dot(train_data,w.T) + b\n",
    "    val_z = np.dot(val_data,w.T) + b\n",
    "    w = w - (learning_rate * dw(train_z, TTOTAL))\n",
    "    b = b - (learning_rate * db(train_z, TTOTAL))\n",
    "    \n",
    "    end_time = time.time()\n",
    "    \n",
    "    train_loss.append(loss(train_lab,sigmoid(train_z),TTOTAL))\n",
    "    val_loss.append(loss(val_lab,sigmoid(val_z),VTOTAL))\n",
    "    \n",
    "    train_acc.append(accuracy(train_lab, sigmoid(train_z),TTOTAL))\n",
    "    val_acc.append(accuracy(val_lab, sigmoid(val_z),VTOTAL))\n",
    "    \n",
    "    calculation_time.append(end_time - start_time)\n",
    "\n",
    "    \n",
    "    if (abs(train_loss[temp]-last) < 10e-4):\n",
    "        break\n",
    "    else :\n",
    "        last = train_loss[temp]\n",
    "        temp = temp + 1\n",
    "        continue\n"
   ]
  },
  {
   "cell_type": "markdown",
   "metadata": {},
   "source": [
    "## plot loss, accuracy, and calculation time"
   ]
  },
  {
   "cell_type": "markdown",
   "metadata": {},
   "source": [
    "## Final loss and accuracy "
   ]
  },
  {
   "cell_type": "code",
   "execution_count": null,
   "metadata": {},
   "outputs": [],
   "source": [
    "print(\"  dataset    |    loss    |   accuracy   | \")\n",
    "print(\"------------------------------------------ \")\n",
    "print(\"  training   |    %.3f   |    %.3f     | \" %(train_loss[-1],train_acc[-1]))\n",
    "print(\"------------------------------------------ \")\n",
    "print(\" validation  |    %.3f   |    %.3f     | \" %(val_loss[-1],val_acc[-1]))\n",
    "print(\"------------------------------------------ \")\n"
   ]
  }
 ],
 "metadata": {
  "kernelspec": {
   "display_name": "Python 3",
   "language": "python",
   "name": "python3"
  },
  "language_info": {
   "codemirror_mode": {
    "name": "ipython",
    "version": 3
   },
   "file_extension": ".py",
   "mimetype": "text/x-python",
   "name": "python",
   "nbconvert_exporter": "python",
   "pygments_lexer": "ipython3",
   "version": "3.7.3"
  }
 },
 "nbformat": 4,
 "nbformat_minor": 2
}
